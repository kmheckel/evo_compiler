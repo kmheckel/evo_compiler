{
 "cells": [
  {
   "cell_type": "markdown",
   "id": "5895beb9",
   "metadata": {},
   "source": [
    "# Neuroevolutionary Compiler Optimization Control"
   ]
  },
  {
   "cell_type": "markdown",
   "id": "94c92698",
   "metadata": {},
   "source": [
    "## Imports and Setup"
   ]
  },
  {
   "cell_type": "code",
   "execution_count": 15,
   "id": "043be3d4",
   "metadata": {},
   "outputs": [],
   "source": [
    "import os\n",
    "from time import time\n",
    "import pickle\n",
    "from tqdm import tqdm\n",
    "\n",
    "import jax\n",
    "import jax.numpy as jnp\n",
    "import numpy as np\n",
    "\n",
    "import evosax\n",
    "from evosax import LM_MA_ES as ES\n",
    "from evosax import ParameterReshaper\n",
    "from evosax.networks import MLP, LSTM\n",
    "\n",
    "from sklearn.metrics import pairwise_distances\n",
    "\n",
    "import gym\n",
    "import compiler_gym\n",
    "\n",
    "import matplotlib.pyplot as plt\n",
    "import seaborn as sns"
   ]
  },
  {
   "cell_type": "code",
   "execution_count": null,
   "id": "112ef991",
   "metadata": {},
   "outputs": [],
   "source": [
    "import ray\n",
    "ray.init()"
   ]
  },
  {
   "cell_type": "markdown",
   "id": "d06ca1d4",
   "metadata": {},
   "source": [
    "## EvoCompiler Environment"
   ]
  },
  {
   "cell_type": "code",
   "execution_count": null,
   "id": "84587fa2",
   "metadata": {},
   "outputs": [],
   "source": [
    "class State:\n",
    "    def __init__(self, obs, acc_reward, steps):\n",
    "        self.obs = obs           # observation vector\n",
    "        self.acc_reward = acc_reward   # accumulated rewards\n",
    "        self.steps = steps         # Tracks the rollout length.\n",
    "\n",
    "@ray.remote\n",
    "def update_action_dist(topk, action_dist, actions):\n",
    "    actions = np.argpartition(actions, -topk)[:,-topk:]\n",
    "    for act in actions.flatten():\n",
    "        action_dist[act] += 1\n",
    "    return action_dist\n",
    "        \n",
    "@ray.remote(num_cpus=1, max_restarts=7)\n",
    "class SubprocVecEnv:\n",
    "    def __init__(self, env_name, patience=3):\n",
    "        import compiler_gym\n",
    "        self.env = gym.make(env_name)\n",
    "        self.accumulated_reward = 0\n",
    "        self.max_reward = 0\n",
    "        self.init_patience = patience\n",
    "        self.patience = patience\n",
    "\n",
    "    def close(self):\n",
    "        self.env.close()\n",
    "        \n",
    "    def reset(self, bench):\n",
    "        self.patience = self.init_patience\n",
    "        self.env.reset(benchmark=bench)\n",
    "        return self.env.observation[\"InstCountNorm\"]\n",
    "    \n",
    "    def step(self, actions):\n",
    "        _, _, done = self.env.step(actions)[:-1]\n",
    "        obs = self.env.observation[\"InstCountNorm\"]\n",
    "        r = self.env.reward[\"IrInstructionCountOz\"]\n",
    "        self.accumulated_reward += r\n",
    "        if self.accumulated_reward > self.max_reward:\n",
    "            self.max_reward = self.accumulated_reward\n",
    "        else:\n",
    "            self.patience -= 1\n",
    "            if self.patience < 0:\n",
    "                done = True\n",
    "        return obs, r, done\n",
    "    \n",
    "    def multistep(self, actions):\n",
    "        _, _, done = self.env.multistep(actions)[:-1]\n",
    "        obs = self.env.observation[\"InstCountNorm\"]\n",
    "        r = self.env.reward[\"IrInstructionCountOz\"]\n",
    "        self.accumulated_reward += r\n",
    "        if self.accumulated_reward > self.max_reward:\n",
    "            self.max_reward = self.accumulated_reward\n",
    "        else:\n",
    "            self.patience -= 1\n",
    "            if self.patience < 0:\n",
    "                done = True\n",
    "        return obs, r, done\n",
    "\n",
    "class EvoCompiler:\n",
    "\n",
    "    def __init__(self, env_name, dataset_name, pop_size=64, topk=10, num_envs=8, max_steps=100):\n",
    "        self.env = [SubprocVecEnv.remote(env_name) for _ in range(num_envs)]\n",
    "        self.pop_size = pop_size\n",
    "        self.topk = topk\n",
    "        self.num_envs = num_envs\n",
    "        self.num_batches = self.pop_size / self.num_envs\n",
    "        self.max_steps = max_steps\n",
    "        self.ds = 0\n",
    "        self.obs_shape, self.act_shape = 0, 0\n",
    "        with gym.make(env_name) as ENV:\n",
    "            self.ds = [prog for prog in ENV.datasets[dataset_name].benchmark_uris()]\n",
    "            if dataset_name == \"blas-v0\":\n",
    "                self.ds = self.ds[40:50]\n",
    "            ENV.reset()\n",
    "            self.obs_shape, self.act_shape = ENV.observation[\"InstCountNorm\"].shape, \\\n",
    "                                             ENV.action_space.n\n",
    "        self.ds_size = len(self.ds)\n",
    "        print(\"Popsize: {}, Num Envs: {}, Batches: {}, Datasize: {}\".format(self.pop_size, self.num_envs, self.num_batches, self.ds_size))\n",
    "\n",
    "        \n",
    "    def close(self):\n",
    "        futures = [env.close.remote() for env in self.env]\n",
    "    \n",
    "    def reset(self, prog):\n",
    "        futures = [env.reset.remote(prog) for env in self.env]\n",
    "        initial_observations = ray.get(futures)\n",
    "    \n",
    "        return State(\n",
    "            obs=jnp.stack(initial_observations, dtype=jnp.float32),\n",
    "            acc_reward=jnp.zeros(self.num_envs, dtype=jnp.float32),\n",
    "            steps=jnp.zeros((), dtype=np.int16),\n",
    "        )\n",
    "    \n",
    "    def step(self, state, actions): # probably will delete lines below as the multistep/fewshot approach works better for mlp\n",
    "        actions = np.argpartition(actions, -self.topk)[:,-self.topk:]\n",
    "        futures = [env.multistep.remote(action) for env, action in zip(self.env, actions.tolist())]\n",
    "        states = ray.get(futures)\n",
    "        observations, rewards, dones = zip(*states)\n",
    "        \n",
    "        return State(\n",
    "            acc_reward=state.acc_reward + jnp.array(rewards, dtype=jnp.float32),\n",
    "            obs=jnp.stack(observations, dtype=jnp.float32),\n",
    "            steps=state.steps+1,\n",
    "            ), jnp.array(dones, dtype=jnp.float32) \n",
    "\n",
    "        \n",
    "    def rollout(self, forward, PR, population, epoch):\n",
    "        # split population into batches since the number of envs is constrained\n",
    "        batches = jnp.split(population, self.num_batches)\n",
    "        nets = [PR.reshape(batch) for batch in batches]\n",
    "        \n",
    "        action_distribution = {}\n",
    "        \n",
    "        fitness_vector = jnp.array([])\n",
    "        for batch in tqdm(nets, desc=\"Epoch {}\".format(epoch), ncols=80):\n",
    "            batch_fitness = jnp.zeros(self.num_envs)\n",
    "            for prog in self.ds:\n",
    "                action_distribution[prog] = {i:0 for i in range(self.act_shape)}\n",
    "                state = self.reset(prog)\n",
    "                done, steps = False, 0\n",
    "                while not done and steps < self.max_steps:\n",
    "                    obs = state.obs\n",
    "                    actions = forward(batch, obs)\n",
    "                    wait = update_action_dist.remote(self.topk, action_distribution[prog], np.array(actions))\n",
    "                    state, dones = self.step(state, actions)\n",
    "                    action_distribution[prog] = ray.get(wait)\n",
    "                    done, step = jnp.alltrue(dones) , state.steps\n",
    "                batch_fitness = batch_fitness + state.acc_reward\n",
    "            \n",
    "            # need to track negatitve reward since evosax minimizes and we want to max\n",
    "            fitness_vector = jnp.concatenate([fitness_vector, -batch_fitness])\n",
    "            # could increase efficiency by writing to a preshaped array.\n",
    "        return fitness_vector/self.ds_size, action_distribution"
   ]
  },
  {
   "cell_type": "markdown",
   "id": "aa4ebdb0",
   "metadata": {},
   "source": [
    "## Evolution"
   ]
  },
  {
   "cell_type": "code",
   "execution_count": null,
   "id": "ea186cae",
   "metadata": {},
   "outputs": [],
   "source": [
    "env_name = \"llvm-v0\"\n",
    "train_name  = \"chstone-v0\"\n",
    "test_name = \"cbench-v1\"\n",
    "test2_name = \"blas-v0\""
   ]
  },
  {
   "cell_type": "code",
   "execution_count": null,
   "id": "5942a685",
   "metadata": {},
   "outputs": [],
   "source": [
    "pop_size = 40\n",
    "\n",
    "obs_shape, act_shape = 0, 0\n",
    "\n",
    "sample_env = EvoCompiler(env_name, train_name, pop_size)\n",
    "obs_shape, act_shape = sample_env.obs_shape, sample_env.act_shape\n",
    "del sample_env\n",
    "    \n",
    "network = MLP(num_hidden_layers=3, num_output_units=act_shape)\n",
    "forward = jax.vmap(network.apply, in_axes=0)\n",
    "\n",
    "rng = jax.random.PRNGKey(42)\n",
    "rng, init_rng = jax.random.split(rng, 2)\n",
    "net_params = network.init(rng, jnp.zeros(obs_shape,), init_rng)\n",
    "\n",
    "# Initialize reshaper based on placeholder network shapes\n",
    "PR = ParameterReshaper(net_params)"
   ]
  },
  {
   "cell_type": "code",
   "execution_count": null,
   "id": "2d6a886c",
   "metadata": {},
   "outputs": [],
   "source": [
    "def fitness_stats(fitness_vector):\n",
    "    return max(fitness_vector), jnp.mean(fitness_vector), min(fitness_vector)\n",
    "\n",
    "rng, strategy_rng = jax.random.split(rng, 2)\n",
    "strategy = ES(popsize=pop_size, num_dims=PR.total_params) \n",
    "evo_params = strategy.default_params\n",
    "\n",
    "evostate = strategy.initialize(strategy_rng, evo_params)\n",
    "\n",
    "def evolve(rng, evostate, epochs=10, pop_size=64, topk=10, dataset_name=train_name):\n",
    "\n",
    "    rng, strategy_rng = jax.random.split(rng, 2)\n",
    "\n",
    "    fitnesses = []\n",
    "    act_dist = []\n",
    "    time_vec = []\n",
    "    \n",
    "    env = EvoCompiler(env_name, dataset_name, pop_size, topk)\n",
    "    for e in range(epochs):\n",
    "        start = time()\n",
    "        population, evostate = strategy.ask(strategy_rng, evostate, evo_params)\n",
    "        fitness_vector, action_dist = env.rollout(forward, PR, population, e)\n",
    "        act_dist.append(action_dist)\n",
    "        evostate = strategy.tell(population, fitness_vector, evostate, evo_params)\n",
    "        end = time() - start\n",
    "        rng, strategy_rng = jax.random.split(rng, 2)\n",
    "        stats = fitness_stats(-fitness_vector)\n",
    "        print(\"Max: {}, Avg: {}, Min: {}\".format(*stats))\n",
    "        fitnesses.append(stats[0])\n",
    "        time_vec.append(end)\n",
    "    env.close()\n",
    "    del env\n",
    "    \n",
    "    with open(dataset_name+\"_fit_{}_{}.pkl\".format(pop_size, topk), \"wb\") as f:\n",
    "        pickle.dump(fitnesses, f)\n",
    "    with open(dataset_name+\"_time_{}_{}.pkl\".format(pop_size, topk), \"wb\") as f:\n",
    "        pickle.dump(time_vec, f)\n",
    "    with open(dataset_name+\"_act_{}_{}.pkl\".format(pop_size, topk), \"wb\") as f:\n",
    "        pickle.dump(act_dist, f)\n",
    "    with open(dataset_name+\"_state_{}_{}.pkl\".format(pop_size, topk), \"wb\") as f:\n",
    "        pickle.dump(evostate, f)\n",
    "        \n",
    "    print(\"Finished.\")\n",
    "    return"
   ]
  },
  {
   "cell_type": "code",
   "execution_count": 50,
   "id": "20215cfb",
   "metadata": {},
   "outputs": [],
   "source": [
    "topk = 20\n",
    "num_epochs = 15"
   ]
  },
  {
   "cell_type": "code",
   "execution_count": null,
   "id": "1478e95d",
   "metadata": {},
   "outputs": [],
   "source": [
    "evolve(rng, evostate, num_epochs, pop_size, topk, train_name)"
   ]
  },
  {
   "cell_type": "code",
   "execution_count": null,
   "id": "d5a5fbf9",
   "metadata": {},
   "outputs": [],
   "source": [
    "with open(\"./chstone-v0_state_40_{}.pkl\".format(topk), \"rb\") as f:\n",
    "    test_state = pickle.load(f)\n",
    "    evolve(rng, test_state, num_epochs, pop_size, topk, test_name)"
   ]
  },
  {
   "cell_type": "code",
   "execution_count": null,
   "id": "3fd63a3a",
   "metadata": {},
   "outputs": [],
   "source": [
    "with open(\"cbench-v1_state_40_{}.pkl\".format(topk), \"rb\") as f:\n",
    "    test2_state = pickle.load(f)\n",
    "    evolve(rng, evostate, num_epochs, pop_size, topk, test2_name)"
   ]
  },
  {
   "cell_type": "markdown",
   "id": "ff33758d",
   "metadata": {},
   "source": [
    "## Visualization"
   ]
  },
  {
   "cell_type": "code",
   "execution_count": 16,
   "id": "69bb4f89",
   "metadata": {},
   "outputs": [],
   "source": [
    "\n",
    "with open(\"./chstone-v0_fit_40_1.pkl\", \"rb\") as f:\n",
    "    chstone_k1_fit = pickle.load(f)\n",
    "    \n",
    "with open(\"./chstone-v0_fit_40_5.pkl\", \"rb\") as f:\n",
    "    chstone_k5_fit = pickle.load(f)\n",
    "    \n",
    "with open(\"./chstone-v0_fit_40_10.pkl\", \"rb\") as f:\n",
    "    chstone_k10_fit = pickle.load(f)\n",
    "    \n",
    "with open(\"./chstone-v0_fit_40_15.pkl\", \"rb\") as f:\n",
    "    chstone_k15_fit = pickle.load(f)\n",
    "    \n",
    "with open(\"./cbench-v1_fit_40_1.pkl\", \"rb\") as f:\n",
    "    cbench_k1_fit = pickle.load(f)\n",
    "    \n",
    "with open(\"./cbench-v1_fit_40_5.pkl\", \"rb\") as f:\n",
    "    cbench_k5_fit = pickle.load(f)\n",
    "    \n",
    "with open(\"./cbench-v1_fit_40_10.pkl\", \"rb\") as f:\n",
    "    cbench_k10_fit = pickle.load(f)\n",
    "    \n",
    "with open(\"./cbench-v1_fit_40_15.pkl\", \"rb\") as f:\n",
    "    cbench_k15_fit = pickle.load(f)\n",
    "    \n",
    "with open(\"./blas-v0_fit_40_1.pkl\", \"rb\") as f:\n",
    "    blas_k1_fit = pickle.load(f)\n",
    "    \n",
    "with open(\"./blas-v0_fit_40_5.pkl\", \"rb\") as f:\n",
    "    blas_k5_fit = pickle.load(f)\n",
    "    \n",
    "with open(\"./blas-v0_fit_40_10.pkl\", \"rb\") as f:\n",
    "    blas_k10_fit = pickle.load(f)"
   ]
  },
  {
   "cell_type": "code",
   "execution_count": 46,
   "id": "d64eeab1",
   "metadata": {},
   "outputs": [
    {
     "data": {
      "text/plain": [
       "1.0468966"
      ]
     },
     "execution_count": 46,
     "metadata": {},
     "output_type": "execute_result"
    }
   ],
   "source": [
    "np.max(cbench_k15_fit)"
   ]
  },
  {
   "cell_type": "code",
   "execution_count": 20,
   "id": "586b704d",
   "metadata": {
    "scrolled": true
   },
   "outputs": [
    {
     "data": {
      "image/png": "[encoded data removed]",
      "text/plain": [
       "<Figure size 640x480 with 1 Axes>"
      ]
     },
     "metadata": {},
     "output_type": "display_data"
    }
   ],
   "source": [
    "x_vals = [*range(45)]\n",
    "\n",
    "k1 = np.concatenate([chstone_k1_fit, cbench_k1_fit, blas_k1_fit])\n",
    "k5 = np.concatenate([chstone_k5_fit, cbench_k5_fit, blas_k5_fit])\n",
    "k10 = np.concatenate([chstone_k10_fit, cbench_k10_fit, blas_k10_fit])\n",
    "k15 = np.concatenate([chstone_k15_fit, cbench_k15_fit, np.zeros(15)])\n",
    "\n",
    "\n",
    "plt.figure(figsize=(8, 6), dpi=80)\n",
    "\n",
    "# k = 1\n",
    "plt.plot(x_vals, k1, linestyle=\"dotted\", color=\"black\", label=\"Top K = 1\")\n",
    "\n",
    "# k = 5\n",
    "plt.plot(x_vals, k5, linestyle=\"dashed\", color=\"black\", label=\"Top K = 5\")\n",
    "\n",
    "# k = 10\n",
    "plt.plot(x_vals, k10, color=\"black\", label=\"Top K = 10\")\n",
    "\n",
    "# k = 15\n",
    "plt.plot(x_vals, k15, linestyle=\"dashed\", color=\"red\", label=\"Top K = 15\")\n",
    "\n",
    "plt.title(\"Maximum Fitness\")\n",
    "plt.xlabel(\"Epoch Number\")\n",
    "plt.ylabel(\"Relative Performance\")\n",
    "plt.axvline(x = 15, color = 'grey')\n",
    "plt.axvline(x = 30, color = 'grey')\n",
    "plt.grid()\n",
    "plt.legend()\n",
    "plt.show()\n"
   ]
  },
  {
   "cell_type": "code",
   "execution_count": null,
   "id": "1a3f4088",
   "metadata": {},
   "outputs": [],
   "source": [
    "def program_instruction_vectors(dataset_name):\n",
    "    import compiler_gym\n",
    "    \n",
    "    env_vecs = []\n",
    "    with gym.make(\"llvm-v0\") as ENV:\n",
    "        ds = [prog for prog in ENV.datasets[dataset_name].benchmark_uris()]\n",
    "        if dataset_name == \"blas-v0\":\n",
    "            ds = ds[40:50]\n",
    "        \n",
    "        for prog in ds:\n",
    "            ENV.reset(prog)\n",
    "            vec = ENV.observation[\"InstCountNorm\"]\n",
    "            env_vecs.append(vec)\n",
    "    labels = [prog.rpartition(\"/\")[-1] for prog in ds]\n",
    "    return np.array(env_vecs), labels\n",
    "\n",
    "def intradataset_sim(vecs):\n",
    "    return 1 - pairwise_distances(vecs, metric=\"cosine\")\n",
    "\n",
    "def interdataset_sim(vecs_A, vecs_B):\n",
    "    return 1 - pairwise_distances(vecs_A, vecs_B, metric=\"cosine\")\n",
    "    "
   ]
  },
  {
   "cell_type": "code",
   "execution_count": null,
   "id": "a9efa47d",
   "metadata": {},
   "outputs": [],
   "source": [
    "train_vecs, train_labels = program_instruction_vectors(train_name)\n",
    "test_vecs, test_labels = program_instruction_vectors(test_name)\n",
    "test2_vecs, test2_labels = program_instruction_vectors(test2_name)\n",
    "test2_labels = [\"BLAS_{}\".format(i) for i in test2_labels]"
   ]
  },
  {
   "cell_type": "code",
   "execution_count": null,
   "id": "525f02a6",
   "metadata": {},
   "outputs": [],
   "source": [
    "train_sim = intradataset_sim(train_vecs)\n",
    "test_sim = intradataset_sim(test_vecs)\n",
    "test2_sim = intradataset_sim(test2_vecs)"
   ]
  },
  {
   "cell_type": "code",
   "execution_count": null,
   "id": "25ba6c2d",
   "metadata": {},
   "outputs": [],
   "source": [
    "train_test_sim = interdataset_sim(train_vecs, test_vecs)\n",
    "test1_test2_sim = interdataset_sim(test_vecs, test2_vecs)"
   ]
  },
  {
   "cell_type": "code",
   "execution_count": null,
   "id": "58c825a8",
   "metadata": {},
   "outputs": [],
   "source": [
    "plt.figure(figsize=(8, 6), dpi=80)\n",
    "ax = sns.heatmap(train_sim, cmap=\"gnuplot\")\n",
    "plt.title(\"CHStone Program Similarities\")\n",
    "plt.yticks(np.arange(len(train_labels))+.5, train_labels, rotation=0)\n",
    "plt.xticks(np.arange(len(train_labels))+.5, train_labels, rotation=90)\n",
    "plt.show()"
   ]
  },
  {
   "cell_type": "code",
   "execution_count": null,
   "id": "f964bf26",
   "metadata": {},
   "outputs": [],
   "source": [
    "plt.figure(figsize=(8, 6), dpi=80)\n",
    "ax = sns.heatmap(test_sim, cmap=\"gnuplot\")\n",
    "plt.title(\"cBench Program Similarities\")\n",
    "plt.yticks(np.arange(len(test_labels))+.5, test_labels, rotation=0)\n",
    "plt.xticks(np.arange(len(test_labels))+.5, test_labels, rotation=90)\n",
    "plt.show()"
   ]
  },
  {
   "cell_type": "code",
   "execution_count": null,
   "id": "3fa2e191",
   "metadata": {},
   "outputs": [],
   "source": [
    "plt.figure(figsize=(8, 6), dpi=80)\n",
    "ax = sns.heatmap(test2_sim, cmap=\"gnuplot\")\n",
    "plt.title(\"BLAS Program Similarities\")\n",
    "plt.yticks(np.arange(len(test2_labels))+.5, test2_labels, rotation=0)\n",
    "plt.xticks(np.arange(len(test2_labels))+.5, test2_labels, rotation=90)\n",
    "plt.show()"
   ]
  },
  {
   "cell_type": "code",
   "execution_count": null,
   "id": "f8e102fa",
   "metadata": {},
   "outputs": [],
   "source": [
    "plt.figure(figsize=(8, 6), dpi=80)\n",
    "ax = sns.heatmap(train_test_sim, cmap=\"gnuplot\")\n",
    "plt.title(\"CHStone/cBench Program Similarities\")\n",
    "plt.yticks(np.arange(len(train_labels))+.5, train_labels, rotation=0)\n",
    "plt.xticks(np.arange(len(test_labels))+.5, test_labels, rotation=90)\n",
    "plt.show()"
   ]
  },
  {
   "cell_type": "code",
   "execution_count": null,
   "id": "82a73555",
   "metadata": {},
   "outputs": [],
   "source": [
    "plt.figure(figsize=(8, 6), dpi=80)\n",
    "ax = sns.heatmap(test1_test2_sim, cmap=\"gnuplot\")\n",
    "plt.title(\"cBench/BLAS Program Similarities\")\n",
    "plt.yticks(np.arange(len(test_labels))+.5, test_labels, rotation=0)\n",
    "plt.xticks(np.arange(len(test2_labels))+.5, test2_labels, rotation=90)\n",
    "plt.show()"
   ]
  },
  {
   "cell_type": "code",
   "execution_count": null,
   "id": "7a3ac3a9",
   "metadata": {},
   "outputs": [],
   "source": [
    "chstone_act_dist = None\n",
    "with open(\"./chstone-v0_act_40_10.pkl\", \"rb\") as f:\n",
    "    chstone_act_dist = pickle.load(f)\n",
    "    \n",
    "cbench_act_dist = None\n",
    "with open(\"./cbench-v1_act_40_10.pkl\", \"rb\") as f:\n",
    "    cbench_act_dist = pickle.load(f)\n",
    "    \n",
    "blas_act_dist = None\n",
    "with open(\"./blas-v0_act_40_10.pkl\", \"rb\") as f:\n",
    "    blas_act_dist = pickle.load(f)"
   ]
  },
  {
   "cell_type": "code",
   "execution_count": null,
   "id": "5818dbb2",
   "metadata": {},
   "outputs": [],
   "source": [
    "def plot_action_spectra(act_dist, dataset_name):\n",
    "    dist_data = []\n",
    "    for epoch in act_dist:\n",
    "        epoch_data = np.zeros(124)\n",
    "        for prog, dist in epoch.items():\n",
    "            for k, v in dist.items():\n",
    "                epoch_data[k] += v\n",
    "        dist_data.append(epoch_data)\n",
    "    dist_data = np.array(dist_data).T\n",
    "    \n",
    "    plt.figure(figsize=(8, 6), dpi=80)\n",
    "    ax = sns.heatmap(dist_data, cmap=\"gnuplot\")\n",
    "    plt.title(\"{} Action Spectra\".format(dataset_name))\n",
    "    plt.show()\n",
    "    return dist_data"
   ]
  },
  {
   "cell_type": "code",
   "execution_count": null,
   "id": "0d194d36",
   "metadata": {},
   "outputs": [],
   "source": [
    "with open(\"./action_list.pkl\", \"rb\") as f:\n",
    "    action_list = pickle.load(f)"
   ]
  },
  {
   "cell_type": "code",
   "execution_count": null,
   "id": "43af2a2f",
   "metadata": {},
   "outputs": [],
   "source": [
    "chstone_spectra = plot_action_spectra(chstone_act_dist, \"CHStone\")"
   ]
  },
  {
   "cell_type": "code",
   "execution_count": null,
   "id": "4b67ddca",
   "metadata": {},
   "outputs": [],
   "source": [
    "[action_list[i] for i in np.argpartition(chstone_spectra[:,-1], -5)[-5:]][::-1]"
   ]
  },
  {
   "cell_type": "code",
   "execution_count": null,
   "id": "121d8b4b",
   "metadata": {},
   "outputs": [],
   "source": [
    "cbench_spectra = plot_action_spectra(cbench_act_dist, \"cBench\")"
   ]
  },
  {
   "cell_type": "code",
   "execution_count": null,
   "id": "a52eaaa9",
   "metadata": {},
   "outputs": [],
   "source": [
    "[action_list[i] for i in np.argpartition(cbench_spectra[:,-1], -5)[-5:]][::-1]"
   ]
  },
  {
   "cell_type": "code",
   "execution_count": null,
   "id": "bf8171fd",
   "metadata": {},
   "outputs": [],
   "source": [
    "blas_spectra = plot_action_spectra(blas_act_dist, \"BLAS\")"
   ]
  },
  {
   "cell_type": "code",
   "execution_count": null,
   "id": "5808da45",
   "metadata": {},
   "outputs": [],
   "source": [
    "[action_list[i] for i in np.argpartition(blas_spectra[:,-1], -5)[-5:]][::-1]"
   ]
  },
  {
   "cell_type": "code",
   "execution_count": null,
   "id": "e50ff6cd",
   "metadata": {},
   "outputs": [],
   "source": [
    "def action_distribution_to_vec(act_dist):\n",
    "    vecs = []\n",
    "    for prog, dist in act_dist.items():\n",
    "        prog_vector = np.zeros(124)\n",
    "        for k, v in dist.items():\n",
    "            prog_vector[k] += v\n",
    "        vecs.append(prog_vector)\n",
    "    vecs = np.array(vecs)\n",
    "    return vecs"
   ]
  },
  {
   "cell_type": "code",
   "execution_count": null,
   "id": "639c3124",
   "metadata": {},
   "outputs": [],
   "source": [
    "chstone_act_vecs = action_distribution_to_vec(chstone_act_dist[-1])\n",
    "plt.figure(figsize=(8, 6), dpi=80)\n",
    "ax = sns.heatmap(intradataset_sim(chstone_act_vecs), cmap=\"gnuplot\")\n",
    "plt.title(\"CHStone Action Distribution Similarities\")\n",
    "plt.yticks(np.arange(len(train_labels))+.5, train_labels, rotation=0)\n",
    "plt.xticks(np.arange(len(train_labels))+.5, train_labels, rotation=90)\n",
    "plt.show()"
   ]
  },
  {
   "cell_type": "code",
   "execution_count": null,
   "id": "ef8afedd",
   "metadata": {},
   "outputs": [],
   "source": [
    "cbench_act_vecs = action_distribution_to_vec(cbench_act_dist[-1])\n",
    "plt.figure(figsize=(8, 6), dpi=80)\n",
    "ax = sns.heatmap(intradataset_sim(cbench_act_vecs), cmap=\"gnuplot\")\n",
    "plt.title(\"cBench Action Distribution Similarities\")\n",
    "plt.yticks(np.arange(len(test_labels))+.5, test_labels, rotation=0)\n",
    "plt.xticks(np.arange(len(test_labels))+.5, test_labels, rotation=90)\n",
    "plt.show()"
   ]
  },
  {
   "cell_type": "code",
   "execution_count": null,
   "id": "f551e782",
   "metadata": {},
   "outputs": [],
   "source": [
    "blas_act_vecs = action_distribution_to_vec(blas_act_dist[-1])\n",
    "plt.figure(figsize=(8, 6), dpi=80)\n",
    "ax = sns.heatmap(intradataset_sim(blas_act_vecs), cmap=\"gnuplot\")\n",
    "plt.title(\"BLAS Action Distribution Similarities\")\n",
    "plt.yticks(np.arange(len(test2_labels))+.5, test2_labels, rotation=0)\n",
    "plt.xticks(np.arange(len(test2_labels))+.5, test2_labels, rotation=90)\n",
    "plt.show()"
   ]
  },
  {
   "cell_type": "code",
   "execution_count": null,
   "id": "08b1a663",
   "metadata": {},
   "outputs": [],
   "source": [
    "plt.figure(figsize=(8, 6), dpi=80)\n",
    "ax = sns.heatmap(interdataset_sim(chstone_act_vecs,cbench_act_vecs), cmap=\"gnuplot\")\n",
    "plt.title(\"CHStone/cBench Action Distribution Similarities\")\n",
    "plt.yticks(np.arange(len(train_labels))+.5, train_labels, rotation=0)\n",
    "plt.xticks(np.arange(len(test_labels))+.5, test_labels, rotation=90)\n",
    "plt.show()"
   ]
  },
  {
   "cell_type": "code",
   "execution_count": null,
   "id": "89461c86",
   "metadata": {},
   "outputs": [],
   "source": [
    "plt.figure(figsize=(8, 6), dpi=80)\n",
    "ax = sns.heatmap(interdataset_sim(cbench_act_vecs, blas_act_vecs), cmap=\"gnuplot\")\n",
    "plt.title(\"cBench/BLAS Action Distribution Similarities\")\n",
    "plt.yticks(np.arange(len(test_labels))+.5, test_labels, rotation=0)\n",
    "plt.xticks(np.arange(len(test2_labels))+.5, test2_labels, rotation=90)\n",
    "plt.show()"
   ]
  },
  {
   "cell_type": "code",
   "execution_count": 35,
   "id": "51b1c9c2",
   "metadata": {},
   "outputs": [],
   "source": [
    "with open(\"chstone-v0_time_40_1.pkl\", \"rb\") as f:\n",
    "    chstone_time_k1 = np.sum(pickle.load(f))\n",
    "\n",
    "with open(\"chstone-v0_time_40_5.pkl\", \"rb\") as f:\n",
    "    chstone_time_k5 = np.sum(pickle.load(f))\n",
    "    \n",
    "with open(\"chstone-v0_time_40_10.pkl\", \"rb\") as f:\n",
    "    chstone_time_k10 = np.sum(pickle.load(f))\n",
    "    \n",
    "with open(\"chstone-v0_time_40_15.pkl\", \"rb\") as f:\n",
    "    chstone_time_k15 = np.sum(pickle.load(f))    \n",
    "\n",
    "with open(\"cbench-v1_time_40_1.pkl\", \"rb\") as f:\n",
    "    cbench_time_k1 = np.sum(pickle.load(f))\n",
    "    \n",
    "with open(\"cbench-v1_time_40_5.pkl\", \"rb\") as f:\n",
    "    cbench_time_k5 = np.sum(pickle.load(f))\n",
    "    \n",
    "with open(\"cbench-v1_time_40_10.pkl\", \"rb\") as f:\n",
    "    cbench_time_k10 = np.sum(pickle.load(f))\n",
    "\n",
    "with open(\"cbench-v1_time_40_15.pkl\", \"rb\") as f:\n",
    "    cbench_time_k15 = np.sum(pickle.load(f))\n",
    "    \n",
    "with open(\"blas-v0_time_40_1.pkl\", \"rb\") as f:\n",
    "    blas_time_k1 = np.sum(pickle.load(f))\n",
    "    \n",
    "with open(\"blas-v0_time_40_5.pkl\", \"rb\") as f:\n",
    "    blas_time_k5 = np.sum(pickle.load(f))\n",
    "    \n",
    "with open(\"blas-v0_time_40_10.pkl\", \"rb\") as f:\n",
    "    blas_time_k10 = np.sum(pickle.load(f))"
   ]
  },
  {
   "cell_type": "code",
   "execution_count": 66,
   "id": "41544c7d",
   "metadata": {},
   "outputs": [],
   "source": [
    "time_data = [\n",
    "    [chstone_time_k1,cbench_time_k1,blas_time_k1],\n",
    "    [chstone_time_k5,cbench_time_k5,blas_time_k5],\n",
    "    [chstone_time_k10,cbench_time_k10,blas_time_k10],\n",
    "    [chstone_time_k15,cbench_time_k15,0.0]\n",
    "]"
   ]
  },
  {
   "cell_type": "code",
   "execution_count": 67,
   "id": "dd5b174c",
   "metadata": {},
   "outputs": [],
   "source": [
    "time_data = np.array(time_data)"
   ]
  },
  {
   "cell_type": "code",
   "execution_count": 68,
   "id": "c3d6b8c1",
   "metadata": {},
   "outputs": [
    {
     "data": {
      "text/plain": [
       "array([[ 14.94243524,  29.34921723,  11.96994412],\n",
       "       [ 19.94964776, 115.71422768,  12.77255132],\n",
       "       [ 21.97504409, 159.08564233,  15.08244255],\n",
       "       [ 33.98937056, 257.04475453,   0.        ]])"
      ]
     },
     "execution_count": 68,
     "metadata": {},
     "output_type": "execute_result"
    }
   ],
   "source": [
    "time_data[:,0] /= 12\n",
    "time_data[:,1] /= 23\n",
    "time_data[:,2] /= 10\n",
    "time_data"
   ]
  },
  {
   "cell_type": "code",
   "execution_count": 72,
   "id": "592be485",
   "metadata": {},
   "outputs": [
    {
     "data": {
      "image/png": "[encoded data removed]",
      "text/plain": [
       "<Figure size 640x480 with 1 Axes>"
      ]
     },
     "metadata": {},
     "output_type": "display_data"
    }
   ],
   "source": [
    "ind = np.arange(3)\n",
    "fig = plt.figure()\n",
    "ax = fig.add_axes([0,0,1,1])\n",
    "ax.bar(ind - 0.1875, time_data[0], color = 'k', width = 0.125, label=\"Top K = 1\")\n",
    "ax.bar(ind - 0.0625, time_data[1], color = 'b', width = 0.125, label=\"Top K = 5\")\n",
    "ax.bar(ind + 0.0625, time_data[2], color = 'orange', width = 0.125, label=\"Top K = 10\")\n",
    "ax.bar(ind + 0.1875, time_data[3], color = 'gold', width = 0.125, label=\"Top K = 15\")\n",
    "ax.set_xticks(ind, ('CHStone', 'cBench', 'BLAS'))\n",
    "plt.legend()\n",
    "plt.grid(axis=\"y\")\n",
    "plt.ylabel(\"Time per Program (Seconds)\")\n",
    "plt.title(\"Average Evolution Time\")\n",
    "plt.show()"
   ]
  },
  {
   "cell_type": "code",
   "execution_count": null,
   "id": "9571edb7",
   "metadata": {},
   "outputs": [],
   "source": []
  },
  {
   "cell_type": "code",
   "execution_count": null,
   "id": "0be93d02",
   "metadata": {},
   "outputs": [],
   "source": []
  }
 ],
 "metadata": {
  "kernelspec": {
   "display_name": "Python 3 (ipykernel)",
   "language": "python",
   "name": "python3"
  },
  "language_info": {
   "codemirror_mode": {
    "name": "ipython",
    "version": 3
   },
   "file_extension": ".py",
   "mimetype": "text/x-python",
   "name": "python",
   "nbconvert_exporter": "python",
   "pygments_lexer": "ipython3",
   "version": "3.10.6"
  }
 },
 "nbformat": 4,
 "nbformat_minor": 5
}
